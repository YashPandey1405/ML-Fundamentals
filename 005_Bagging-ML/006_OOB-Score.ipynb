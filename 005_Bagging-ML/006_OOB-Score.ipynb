{
 "cells": [
  {
   "cell_type": "markdown",
   "id": "0420960b",
   "metadata": {},
   "source": [
    "# 📚 Random Forest with Out-of-Bag (OOB) Score\n",
    "\n",
    "### 🚀 Goal:\n",
    "- Train a **Random Forest Classifier** and check its **OOB (Out-of-Bag) score** for quick model evaluation.\n",
    "\n",
    "---\n",
    "\n",
    "### 📦 Breakdown:\n",
    "\n",
    "```python\n",
    "from sklearn.ensemble import RandomForestClassifier\n",
    "from sklearn.datasets import make_classification\n",
    "```\n",
    "- **Import** the classifier and a dataset generator.\n",
    "\n",
    "```python\n",
    "X, y = make_classification(n_samples=1000, n_features=20, n_classes=2, random_state=42)\n",
    "```\n",
    "- **Create dummy data** with 1000 samples, 20 features.\n",
    "\n",
    "```python\n",
    "rf_classifier = RandomForestClassifier(n_estimators=100, oob_score=True, random_state=42)\n",
    "```\n",
    "- **Random Forest** with:\n",
    "  - 100 trees,\n",
    "  - **OOB scoring enabled** (evaluates performance using unused samples in bootstrapping),\n",
    "  - Random state for reproducibility.\n",
    "\n",
    "```python\n",
    "rf_classifier.fit(X, y)\n",
    "```\n",
    "- **Train** the model.\n",
    "\n",
    "```python\n",
    "oob_score = rf_classifier.oob_score_\n",
    "print(\"Out-of-Bag Score:\", oob_score)\n",
    "```\n",
    "- **Print OOB Score** (an internal validation score, like cross-validation).\n",
    "\n",
    "---\n",
    "\n",
    "### 🧠 Quick Tip:\n",
    "**OOB Score = Free cross-validation using leftover (out-of-bag) samples!**"
   ]
  },
  {
   "cell_type": "code",
   "execution_count": 1,
   "id": "9a0626f9-ba4f-4881-a33c-6615f29216d2",
   "metadata": {},
   "outputs": [
    {
     "name": "stdout",
     "output_type": "stream",
     "text": [
      "Out-of-Bag Score: 0.895\n"
     ]
    }
   ],
   "source": [
    "from sklearn.ensemble import RandomForestClassifier\n",
    "from sklearn.datasets import make_classification\n",
    "\n",
    "\n",
    "X, y = make_classification(n_samples=1000, n_features=20, n_classes=2, random_state=42)\n",
    "\n",
    "\n",
    "rf_classifier = RandomForestClassifier(n_estimators=100, oob_score=True, random_state=42)\n",
    "\n",
    "\n",
    "rf_classifier.fit(X, y)\n",
    "\n",
    "oob_score = rf_classifier.oob_score_\n",
    "print(\"Out-of-Bag Score:\", oob_score)\n"
   ]
  },
  {
   "cell_type": "markdown",
   "id": "da861714",
   "metadata": {},
   "source": [
    "# 📚 Out-of-Bag (OOB) Score Insights....\n",
    "\n",
    "- **OOB Score** is the model’s accuracy using unused samples during training.\n",
    "- **0.895 OOB** means ~89.5% correct predictions without needing a test set.\n",
    "- It acts like a **free cross-validation** inside Random Forest.\n",
    "- Useful for **quick model evaluation**."
   ]
  }
 ],
 "metadata": {
  "kernelspec": {
   "display_name": "Python 3 (ipykernel)",
   "language": "python",
   "name": "python3"
  },
  "language_info": {
   "codemirror_mode": {
    "name": "ipython",
    "version": 3
   },
   "file_extension": ".py",
   "mimetype": "text/x-python",
   "name": "python",
   "nbconvert_exporter": "python",
   "pygments_lexer": "ipython3",
   "version": "3.10.8"
  }
 },
 "nbformat": 4,
 "nbformat_minor": 5
}
