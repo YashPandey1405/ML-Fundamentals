{
 "cells": [
  {
   "cell_type": "markdown",
   "id": "6362bb77-eba9-489e-b7dd-d84bf650b6d0",
   "metadata": {},
   "source": [
    "Python pickle module is used for serialising and de-serialising a Python object structure. Any object in Python can be pickled so that it can be saved on disk. What pickle does is that it “serialises” the object first before writing it to file. Pickling is a way to convert a python object (list, dict, etc.) into a character stream. The idea is that this character stream contains all the information necessary to reconstruct the object in another python script"
   ]
  },
  {
   "cell_type": "markdown",
   "id": "8774a91e-62a3-4008-b5df-e724935d3462",
   "metadata": {},
   "source": [
    "#pickle>> aloows you to store the python object on the disk\n",
    "#serialization :  Serialization is the process of converting a data structure or object into a format that can be easily stored, transmitted, or persisted. During serialization, the object's state is converted into a stream of bytes or other formats that can be written to disk, sent over a network, or stored in memory\n",
    "\n",
    "#Deserialization>>Deserialization is the process of reconstructing a serialized object back into its original form. During deserialization, the serialized data is read and converted back into a data structure or object that matches the original."
   ]
  },
  {
   "cell_type": "code",
   "execution_count": null,
   "id": "66289a21-aae8-4b0e-bd8c-9f4c8fe6ed51",
   "metadata": {},
   "outputs": [],
   "source": [
    "# Let 'model' Be Any ML-Regression Model Implemented....\n",
    "#python's object(model), its attributes and methods is converted into byte stream\n",
    "\n",
    "import pickle\n",
    "pickle.dump(model, open(\"model.pkl\", \"wb\")) #write binary mode"
   ]
  },
  {
   "cell_type": "code",
   "execution_count": null,
   "id": "651dadee-1896-40e1-9ebc-f6cde4220237",
   "metadata": {},
   "outputs": [],
   "source": [
    "# Read The Pickle File 'model.pkl' In Read-Binary Mode....\n",
    "model = pickle.load(open(\"model.pkl\", 'rb'))"
   ]
  },
  {
   "cell_type": "code",
   "execution_count": 58,
   "id": "6ff0a7df-aeec-4432-bf3a-10dd3b53f913",
   "metadata": {},
   "outputs": [
    {
     "data": {
      "text/plain": [
       "array([2.12598355, 0.94104495, 2.71042934, ..., 1.85617769, 1.54295782,\n",
       "       1.51367783])"
      ]
     },
     "execution_count": 58,
     "metadata": {},
     "output_type": "execute_result"
    }
   ],
   "source": [
    "model.predict(X_test)"
   ]
  }
 ],
 "metadata": {
  "kernelspec": {
   "display_name": "Python 3 (ipykernel)",
   "language": "python",
   "name": "python3"
  },
  "language_info": {
   "codemirror_mode": {
    "name": "ipython",
    "version": 3
   },
   "file_extension": ".py",
   "mimetype": "text/x-python",
   "name": "python",
   "nbconvert_exporter": "python",
   "pygments_lexer": "ipython3",
   "version": "3.10.8"
  }
 },
 "nbformat": 4,
 "nbformat_minor": 5
}
